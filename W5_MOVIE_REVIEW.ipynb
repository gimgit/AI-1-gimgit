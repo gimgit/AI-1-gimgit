{
 "cells": [
  {
   "cell_type": "code",
   "execution_count": 1,
   "source": [
    "!pip -q install transformers datasets\n"
   ],
   "outputs": [],
   "metadata": {}
  },
  {
   "cell_type": "code",
   "execution_count": 16,
   "source": [
    "from datasets import load_dataset   #1 \n",
    "from transformers import AutoTokenizer, AutoModelForSequenceClassification, MarianMTModel, MarianTokenizer\n",
    "import torch\n",
    "\n",
    "imdb = load_dataset(\"stanfordnlp/imdb\")  #2\n",
    "\n",
    "sentimental_model = \"nlptown/bert-base-multilingual-uncased-sentiment\" #4\n",
    "sentiment_tokenizer = AutoTokenizer.from_pretrained(sentimental_model)  #3\n",
    "sentiment_model = AutoModelForSequenceClassification.from_pretrained(sentimental_model)  #3\n",
    "\n",
    "translation_model_name = \"Helsinki-NLP/opus-mt-en-fr\" #4\n",
    "translation_tokenizer = MarianTokenizer.from_pretrained(translation_model_name) \n",
    "translation_model = MarianMTModel.from_pretrained(translation_model_name)  \n",
    "\n",
    "def classify_sentiment(text):\n",
    "    inputs = sentiment_tokenizer(text, return_tensors=\"pt\", truncation=True, padding=True)\n",
    "    outputs = sentiment_model(**inputs)\n",
    "\n",
    "    prediction = torch.argmax(outputs.logits, dim=-1)[0].item() #5\n",
    "    \n",
    "    stars = \"★\" * (prediction + 1) #필요 시 채워주세요\n",
    "    return stars\n",
    "    \n",
    "def translate_to_french(text):\n",
    "    inputs = translation_tokenizer(text, max_length= 400, padding=True, truncation=True, return_tensors=\"pt\") #8\n",
    "    translated = translation_model.generate(**inputs)\n",
    "    translated_text = translation_tokenizer.decode(translated[0], skip_special_tokens=True)\n",
    "    return translated_text\n",
    "\n",
    "def sentiment_and_translation_pipeline(text):\n",
    "    stars = classify_sentiment(text) #9\n",
    "    translated_text = translate_to_french(text) #10\n",
    "        \n",
    "    print(text) #6\n",
    "    print(stars) #7\n",
    "    print(f\"Translated text: {translated_text}\")\n",
    "    \n",
    "    return stars, translated_text\n"
   ],
   "outputs": [],
   "metadata": {}
  },
  {
   "cell_type": "code",
   "execution_count": 20,
   "source": [
    "\n",
    "test_texts = [\n",
    "\"I absolutely loved this movie, it was a masterpiece!\",\n",
    "\"The plot was terrible and the acting was even worse.\",\n",
    "\"The first half of the movie was slow, but the second half really picked up and became exciting.\",\n",
    "\"This movie was released last year and it received mixed reviews.\",\n",
    "\"It’s the best film I’ve seen in years, truly an unforgettable experience!\",\n",
    "]\n",
    "for text in test_texts:\n",
    "    sentiment_and_translation_pipeline(text) #11\n",
    "\n"
   ],
   "outputs": [
    {
     "output_type": "stream",
     "name": "stdout",
     "text": [
      "I absolutely loved this movie, it was a masterpiece!\n",
      "★★★★★\n",
      "Translated text: J'ai adoré ce film, c'était un chef-d'œuvre !\n",
      "The plot was terrible and the acting was even worse.\n",
      "★\n",
      "Translated text: L'intrigue était terrible et l'acte était encore pire.\n",
      "The first half of the movie was slow, but the second half really picked up and became exciting.\n",
      "★★★★\n",
      "Translated text: La première moitié du film a été lente, mais la deuxième moitié a vraiment repris et est devenue excitante.\n",
      "This movie was released last year and it received mixed reviews.\n",
      "★★★\n",
      "Translated text: Ce film a été sorti l'an dernier et a reçu des critiques mitigées.\n",
      "It’s the best film I’ve seen in years, truly an unforgettable experience!\n",
      "★★★★★\n",
      "Translated text: C'est le meilleur film que j'ai vu depuis des années, vraiment une expérience inoubliable !\n"
     ]
    }
   ],
   "metadata": {}
  }
 ],
 "metadata": {
  "interpreter": {
   "hash": "b64057e63add2b45b1ffc7eab9b09c8889b419c878e2fdf0d08f837f0fc857a7"
  },
  "kernelspec": {
   "display_name": "Python 3 (ipykernel)",
   "language": "python",
   "name": "python3"
  },
  "language_info": {
   "codemirror_mode": {
    "name": "ipython",
    "version": 3
   },
   "file_extension": ".py",
   "mimetype": "text/x-python",
   "name": "python",
   "nbconvert_exporter": "python",
   "pygments_lexer": "ipython3",
   "version": "3.12.4"
  }
 },
 "nbformat": 4,
 "nbformat_minor": 4
}